{
  "nbformat": 4,
  "nbformat_minor": 0,
  "metadata": {
    "colab": {
      "provenance": []
    },
    "kernelspec": {
      "name": "python3",
      "display_name": "Python 3"
    },
    "language_info": {
      "name": "python"
    }
  },
  "cells": [
    {
      "cell_type": "code",
      "execution_count": 1,
      "metadata": {
        "id": "eHSeBVqJmry4"
      },
      "outputs": [],
      "source": [
        "import numpy as np\n",
        "import pandas as pd\n",
        "import matplotlib.pyplot as plt\n",
        "import seaborn as sns"
      ]
    },
    {
      "cell_type": "code",
      "source": [
        "# Load the House Prices dataset (contains missing values)\n",
        "df = pd.read_csv('https://raw.githubusercontent.com/ageron/handson-ml2/master/datasets/housing/housing.csv')"
      ],
      "metadata": {
        "id": "7leyJdwGmuR1"
      },
      "execution_count": 2,
      "outputs": []
    },
    {
      "cell_type": "code",
      "source": [
        "# Display first few rows\n",
        "print(\"First few rows of the dataset:\")\n",
        "print(df.head())"
      ],
      "metadata": {
        "colab": {
          "base_uri": "https://localhost:8080/"
        },
        "id": "dPlg_0kGm_Dn",
        "outputId": "336b564a-32a7-4b62-93d4-7f1d32fa4a18"
      },
      "execution_count": 3,
      "outputs": [
        {
          "output_type": "stream",
          "name": "stdout",
          "text": [
            "First few rows of the dataset:\n",
            "   longitude  latitude  housing_median_age  total_rooms  total_bedrooms  \\\n",
            "0    -122.23     37.88                41.0        880.0           129.0   \n",
            "1    -122.22     37.86                21.0       7099.0          1106.0   \n",
            "2    -122.24     37.85                52.0       1467.0           190.0   \n",
            "3    -122.25     37.85                52.0       1274.0           235.0   \n",
            "4    -122.25     37.85                52.0       1627.0           280.0   \n",
            "\n",
            "   population  households  median_income  median_house_value ocean_proximity  \n",
            "0       322.0       126.0         8.3252            452600.0        NEAR BAY  \n",
            "1      2401.0      1138.0         8.3014            358500.0        NEAR BAY  \n",
            "2       496.0       177.0         7.2574            352100.0        NEAR BAY  \n",
            "3       558.0       219.0         5.6431            341300.0        NEAR BAY  \n",
            "4       565.0       259.0         3.8462            342200.0        NEAR BAY  \n"
          ]
        }
      ]
    },
    {
      "cell_type": "code",
      "source": [
        "# Check for missing values\n",
        "print(\"\\nMissing Values in Each Column:\")\n",
        "print(df.isnull().sum())"
      ],
      "metadata": {
        "colab": {
          "base_uri": "https://localhost:8080/"
        },
        "id": "OIXjrMCunCGk",
        "outputId": "0c7803f4-dea0-4b4d-cb7c-b28beeef50f8"
      },
      "execution_count": 4,
      "outputs": [
        {
          "output_type": "stream",
          "name": "stdout",
          "text": [
            "\n",
            "Missing Values in Each Column:\n",
            "longitude               0\n",
            "latitude                0\n",
            "housing_median_age      0\n",
            "total_rooms             0\n",
            "total_bedrooms        207\n",
            "population              0\n",
            "households              0\n",
            "median_income           0\n",
            "median_house_value      0\n",
            "ocean_proximity         0\n",
            "dtype: int64\n"
          ]
        }
      ]
    },
    {
      "cell_type": "code",
      "source": [
        "# Descriptive statistics\n",
        "print(\"\\nDescriptive Statistics:\")\n",
        "print(df.describe())"
      ],
      "metadata": {
        "colab": {
          "base_uri": "https://localhost:8080/"
        },
        "id": "GZ7RRlhQnE7U",
        "outputId": "67f5fd5b-16c8-4380-c3af-d6900143c79a"
      },
      "execution_count": 5,
      "outputs": [
        {
          "output_type": "stream",
          "name": "stdout",
          "text": [
            "\n",
            "Descriptive Statistics:\n",
            "          longitude      latitude  housing_median_age   total_rooms  \\\n",
            "count  20640.000000  20640.000000        20640.000000  20640.000000   \n",
            "mean    -119.569704     35.631861           28.639486   2635.763081   \n",
            "std        2.003532      2.135952           12.585558   2181.615252   \n",
            "min     -124.350000     32.540000            1.000000      2.000000   \n",
            "25%     -121.800000     33.930000           18.000000   1447.750000   \n",
            "50%     -118.490000     34.260000           29.000000   2127.000000   \n",
            "75%     -118.010000     37.710000           37.000000   3148.000000   \n",
            "max     -114.310000     41.950000           52.000000  39320.000000   \n",
            "\n",
            "       total_bedrooms    population    households  median_income  \\\n",
            "count    20433.000000  20640.000000  20640.000000   20640.000000   \n",
            "mean       537.870553   1425.476744    499.539680       3.870671   \n",
            "std        421.385070   1132.462122    382.329753       1.899822   \n",
            "min          1.000000      3.000000      1.000000       0.499900   \n",
            "25%        296.000000    787.000000    280.000000       2.563400   \n",
            "50%        435.000000   1166.000000    409.000000       3.534800   \n",
            "75%        647.000000   1725.000000    605.000000       4.743250   \n",
            "max       6445.000000  35682.000000   6082.000000      15.000100   \n",
            "\n",
            "       median_house_value  \n",
            "count        20640.000000  \n",
            "mean        206855.816909  \n",
            "std         115395.615874  \n",
            "min          14999.000000  \n",
            "25%         119600.000000  \n",
            "50%         179700.000000  \n",
            "75%         264725.000000  \n",
            "max         500001.000000  \n"
          ]
        }
      ]
    },
    {
      "cell_type": "code",
      "source": [
        "# Measure of Central Tendency\n",
        "mean_values = df.mean(numeric_only=True)\n",
        "median_values = df.median(numeric_only=True)\n",
        "mode_values = df.mode().iloc[0]\n",
        "\n",
        "print(\"\\nMean Values:\\n\", mean_values)\n",
        "print(\"\\nMedian Values:\\n\", median_values)\n",
        "print(\"\\nMode Values:\\n\", mode_values)"
      ],
      "metadata": {
        "colab": {
          "base_uri": "https://localhost:8080/"
        },
        "id": "f6PW10v7nHYx",
        "outputId": "2f04cb49-4a0c-4073-cded-c2d2e03f6b63"
      },
      "execution_count": 6,
      "outputs": [
        {
          "output_type": "stream",
          "name": "stdout",
          "text": [
            "\n",
            "Mean Values:\n",
            " longitude               -119.569704\n",
            "latitude                  35.631861\n",
            "housing_median_age        28.639486\n",
            "total_rooms             2635.763081\n",
            "total_bedrooms           537.870553\n",
            "population              1425.476744\n",
            "households               499.539680\n",
            "median_income              3.870671\n",
            "median_house_value    206855.816909\n",
            "dtype: float64\n",
            "\n",
            "Median Values:\n",
            " longitude               -118.4900\n",
            "latitude                  34.2600\n",
            "housing_median_age        29.0000\n",
            "total_rooms             2127.0000\n",
            "total_bedrooms           435.0000\n",
            "population              1166.0000\n",
            "households               409.0000\n",
            "median_income              3.5348\n",
            "median_house_value    179700.0000\n",
            "dtype: float64\n",
            "\n",
            "Mode Values:\n",
            " longitude               -118.31\n",
            "latitude                  34.06\n",
            "housing_median_age         52.0\n",
            "total_rooms              1527.0\n",
            "total_bedrooms            280.0\n",
            "population                891.0\n",
            "households                306.0\n",
            "median_income             3.125\n",
            "median_house_value     500001.0\n",
            "ocean_proximity       <1H OCEAN\n",
            "Name: 0, dtype: object\n"
          ]
        }
      ]
    },
    {
      "cell_type": "code",
      "source": [
        "# Measure of Variability\n",
        "variance = df.var(numeric_only=True)\n",
        "std_dev = df.std(numeric_only=True)\n",
        "iqr = df.quantile(0.75, numeric_only=True) - df.quantile(0.25, numeric_only=True)\n",
        "\n",
        "print(\"\\nVariance:\\n\", variance)\n",
        "print(\"\\nStandard Deviation:\\n\", std_dev)\n",
        "print(\"\\nInterquartile Range (IQR):\\n\", iqr)"
      ],
      "metadata": {
        "colab": {
          "base_uri": "https://localhost:8080/"
        },
        "id": "XaWAMwwTnK77",
        "outputId": "4771e17a-9e79-45e2-ee7e-f04eadcec1f7"
      },
      "execution_count": 7,
      "outputs": [
        {
          "output_type": "stream",
          "name": "stdout",
          "text": [
            "\n",
            "Variance:\n",
            " longitude             4.014139e+00\n",
            "latitude              4.562293e+00\n",
            "housing_median_age    1.583963e+02\n",
            "total_rooms           4.759445e+06\n",
            "total_bedrooms        1.775654e+05\n",
            "population            1.282470e+06\n",
            "households            1.461760e+05\n",
            "median_income         3.609323e+00\n",
            "median_house_value    1.331615e+10\n",
            "dtype: float64\n",
            "\n",
            "Standard Deviation:\n",
            " longitude                  2.003532\n",
            "latitude                   2.135952\n",
            "housing_median_age        12.585558\n",
            "total_rooms             2181.615252\n",
            "total_bedrooms           421.385070\n",
            "population              1132.462122\n",
            "households               382.329753\n",
            "median_income              1.899822\n",
            "median_house_value    115395.615874\n",
            "dtype: float64\n",
            "\n",
            "Interquartile Range (IQR):\n",
            " longitude                  3.79000\n",
            "latitude                   3.78000\n",
            "housing_median_age        19.00000\n",
            "total_rooms             1700.25000\n",
            "total_bedrooms           351.00000\n",
            "population               938.00000\n",
            "households               325.00000\n",
            "median_income              2.17985\n",
            "median_house_value    145125.00000\n",
            "dtype: float64\n"
          ]
        }
      ]
    },
    {
      "cell_type": "code",
      "source": [
        "# Handling Missing Values (Replacing missing values in 'total_bedrooms' with Median)\n",
        "df['total_bedrooms'].fillna(df['total_bedrooms'].median(), inplace=True)"
      ],
      "metadata": {
        "colab": {
          "base_uri": "https://localhost:8080/"
        },
        "id": "uikcmatKnP3n",
        "outputId": "c59680ff-fbdd-451f-803c-02c1d88d1500"
      },
      "execution_count": 8,
      "outputs": [
        {
          "output_type": "stream",
          "name": "stderr",
          "text": [
            "<ipython-input-8-f780335268cc>:2: FutureWarning: A value is trying to be set on a copy of a DataFrame or Series through chained assignment using an inplace method.\n",
            "The behavior will change in pandas 3.0. This inplace method will never work because the intermediate object on which we are setting values always behaves as a copy.\n",
            "\n",
            "For example, when doing 'df[col].method(value, inplace=True)', try using 'df.method({col: value}, inplace=True)' or df[col] = df[col].method(value) instead, to perform the operation inplace on the original object.\n",
            "\n",
            "\n",
            "  df['total_bedrooms'].fillna(df['total_bedrooms'].median(), inplace=True)\n"
          ]
        }
      ]
    },
    {
      "cell_type": "code",
      "source": [
        "# Boxplot for Outlier Detection\n",
        "plt.figure(figsize=(12,6))\n",
        "sns.boxplot(data=df.select_dtypes(include=['float64', 'int64']))\n",
        "plt.xticks(rotation=45)\n",
        "plt.title(\"Boxplot for Outlier Detection\")\n",
        "plt.show()"
      ],
      "metadata": {
        "colab": {
          "base_uri": "https://localhost:8080/",
          "height": 644
        },
        "id": "grOu5nsXnTOd",
        "outputId": "fda789b9-5cac-44b1-d458-1a9e284e9eb4"
      },
      "execution_count": 9,
      "outputs": [
        {
          "output_type": "display_data",
          "data": {
            "text/plain": [
              "<Figure size 1200x600 with 1 Axes>"
            ],
            "image/png": "[encoded data removed]"
          },
          "metadata": {}
        }
      ]
    },
    {
      "cell_type": "code",
      "source": [],
      "metadata": {
        "id": "AqilXVKdnWuZ"
      },
      "execution_count": null,
      "outputs": []
    }
  ]
}